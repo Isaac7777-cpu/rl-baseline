{
 "cells": [
  {
   "cell_type": "code",
   "id": "initial_id",
   "metadata": {
    "collapsed": true,
    "ExecuteTime": {
     "end_time": "2025-04-18T15:08:38.881917Z",
     "start_time": "2025-04-18T15:08:38.184538Z"
    }
   },
   "source": [
    "from sklearn.preprocessing import KBinsDiscretizer\n",
    "import numpy as np\n",
    "import math, time, random\n",
    "\n",
    "import gym"
   ],
   "outputs": [],
   "execution_count": 1
  },
  {
   "metadata": {},
   "cell_type": "markdown",
   "source": "# CartPole-v1",
   "id": "bd407a1bd538555f"
  },
  {
   "metadata": {
    "ExecuteTime": {
     "end_time": "2025-04-18T15:09:38.123514Z",
     "start_time": "2025-04-18T15:09:38.114456Z"
    }
   },
   "cell_type": "code",
   "source": "env = gym.make('CartPole-v1')",
   "id": "580cf2c54a4a96a6",
   "outputs": [],
   "execution_count": 2
  },
  {
   "metadata": {},
   "cell_type": "markdown",
   "source": "### Visualise Environment",
   "id": "a9be2fe4712af978"
  },
  {
   "metadata": {
    "ExecuteTime": {
     "end_time": "2025-04-18T15:16:00.159471Z",
     "start_time": "2025-04-18T15:15:23.449990Z"
    }
   },
   "cell_type": "code",
   "source": [
    "policy = lambda obs: 0\n",
    "\n",
    "for _ in range(3):\n",
    "    obs, info = env.reset(seed=42)\n",
    "    for _ in range(1000):\n",
    "        actions = policy(obs)\n",
    "        obs, reward, done, _, info = env.step(actions)\n",
    "        env.render()    # This line allows for visualisation\n",
    "        time.sleep(0.01)\n",
    "\n",
    "env.close()"
   ],
   "id": "98e187692791511c",
   "outputs": [
    {
     "name": "stderr",
     "output_type": "stream",
     "text": [
      "/opt/anaconda3/envs/robustml/lib/python3.10/site-packages/gym/envs/classic_control/cartpole.py:211: UserWarning: \u001B[33mWARN: You are calling render method without specifying any render mode. You can specify the render_mode at initialization, e.g. gym(\"CartPole-v1\", render_mode=\"rgb_array\")\u001B[0m\n",
      "  gym.logger.warn(\n",
      "/opt/anaconda3/envs/robustml/lib/python3.10/site-packages/gym/envs/classic_control/cartpole.py:177: UserWarning: \u001B[33mWARN: You are calling 'step()' even though this environment has already returned terminated = True. You should always call 'reset()' once you receive 'terminated = True' -- any further steps are undefined behavior.\u001B[0m\n",
      "  logger.warn(\n"
     ]
    }
   ],
   "execution_count": 8
  },
  {
   "metadata": {},
   "cell_type": "code",
   "outputs": [],
   "execution_count": null,
   "source": "",
   "id": "f95f6f04e43b445d"
  }
 ],
 "metadata": {
  "kernelspec": {
   "display_name": "Python 3",
   "language": "python",
   "name": "python3"
  },
  "language_info": {
   "codemirror_mode": {
    "name": "ipython",
    "version": 2
   },
   "file_extension": ".py",
   "mimetype": "text/x-python",
   "name": "python",
   "nbconvert_exporter": "python",
   "pygments_lexer": "ipython2",
   "version": "2.7.6"
  }
 },
 "nbformat": 4,
 "nbformat_minor": 5
}
